{
 "cells": [
  {
   "cell_type": "markdown",
   "metadata": {},
   "source": [
    "For this project I create a voronoi diagram on the map based on data points (or point of interests), voronoi diagram have applications in almost all areas of science and engineering. For geospatial use case, it is useful to tell us the closest point of interest (POI) by representing each POI with a dot inside a polygon shape. So within a polygon, the closest POI is definitely the dot inside the polygon.\n",
    "\n",
    "Ok, let's start the project. As usual, for the first step let's import all necessary packages"
   ]
  },
  {
   "cell_type": "code",
   "execution_count": 1,
   "metadata": {},
   "outputs": [],
   "source": [
    "import folium\n",
    "import numpy as np\n",
    "import geopandas as gpd\n",
    "#import contextily as ctx\n",
    "import matplotlib.pyplot as plt\n",
    "from shapely.ops import cascaded_union\n",
    "from geovoronoi.plotting import subplot_for_map, plot_voronoi_polys_with_points_in_area\n",
    "from geovoronoi import voronoi_regions_from_coords, points_to_coords\n",
    "from shapely.geometry import Point, LineString, Polygon"
   ]
  },
  {
   "cell_type": "markdown",
   "metadata": {},
   "source": [
    "Insert data points/POI into geodaframe"
   ]
  },
  {
   "cell_type": "code",
   "execution_count": 2,
   "metadata": {},
   "outputs": [
    {
     "data": {
      "text/html": [
       "<div>\n",
       "<style scoped>\n",
       "    .dataframe tbody tr th:only-of-type {\n",
       "        vertical-align: middle;\n",
       "    }\n",
       "\n",
       "    .dataframe tbody tr th {\n",
       "        vertical-align: top;\n",
       "    }\n",
       "\n",
       "    .dataframe thead th {\n",
       "        text-align: right;\n",
       "    }\n",
       "</style>\n",
       "<table border=\"1\" class=\"dataframe\">\n",
       "  <thead>\n",
       "    <tr style=\"text-align: right;\">\n",
       "      <th></th>\n",
       "      <th>geometry</th>\n",
       "    </tr>\n",
       "  </thead>\n",
       "  <tbody>\n",
       "    <tr>\n",
       "      <th>0</th>\n",
       "      <td>POINT (106.64409 -6.30529)</td>\n",
       "    </tr>\n",
       "    <tr>\n",
       "      <th>1</th>\n",
       "      <td>POINT (106.65326 -6.30131)</td>\n",
       "    </tr>\n",
       "    <tr>\n",
       "      <th>2</th>\n",
       "      <td>POINT (106.63775 -6.28477)</td>\n",
       "    </tr>\n",
       "    <tr>\n",
       "      <th>3</th>\n",
       "      <td>POINT (106.66506 -6.28460)</td>\n",
       "    </tr>\n",
       "    <tr>\n",
       "      <th>4</th>\n",
       "      <td>POINT (106.62758 -6.28352)</td>\n",
       "    </tr>\n",
       "    <tr>\n",
       "      <th>5</th>\n",
       "      <td>POINT (106.64136 -6.27659)</td>\n",
       "    </tr>\n",
       "    <tr>\n",
       "      <th>6</th>\n",
       "      <td>POINT (106.62597 -6.30364)</td>\n",
       "    </tr>\n",
       "  </tbody>\n",
       "</table>\n",
       "</div>"
      ],
      "text/plain": [
       "                     geometry\n",
       "0  POINT (106.64409 -6.30529)\n",
       "1  POINT (106.65326 -6.30131)\n",
       "2  POINT (106.63775 -6.28477)\n",
       "3  POINT (106.66506 -6.28460)\n",
       "4  POINT (106.62758 -6.28352)\n",
       "5  POINT (106.64136 -6.27659)\n",
       "6  POINT (106.62597 -6.30364)"
      ]
     },
     "execution_count": 2,
     "metadata": {},
     "output_type": "execute_result"
    }
   ],
   "source": [
    "gdf = gpd.GeoDataFrame()\n",
    "gdf = gdf.append({'geometry': Point(106.644085,-6.305286)}, ignore_index=True)\n",
    "\n",
    "gdf = gdf.append({'geometry': Point(106.653261,-6.301309)}, ignore_index=True)\n",
    "gdf = gdf.append({'geometry': Point(106.637751,-6.284774)}, ignore_index=True)\n",
    "gdf = gdf.append({'geometry': Point(106.665062,-6.284598)}, ignore_index=True)\n",
    "gdf = gdf.append({'geometry': Point(106.627582,-6.283521)}, ignore_index=True)\n",
    "gdf = gdf.append({'geometry': Point(106.641365,-6.276593)}, ignore_index=True)\n",
    "gdf = gdf.append({'geometry': Point(106.625972,-6.303643)}, ignore_index=True)\n",
    "gdf"
   ]
  },
  {
   "cell_type": "markdown",
   "metadata": {},
   "source": [
    "Determine the coverage area of the voronoi diagram & save it to geodaframe"
   ]
  },
  {
   "cell_type": "code",
   "execution_count": 3,
   "metadata": {},
   "outputs": [],
   "source": [
    "area_max_lon = 106.670929\n",
    "area_min_lon = 106.619602\n",
    "area_max_lat = -6.275713\n",
    "area_min_lat = -6.309795\n",
    "\n",
    "lat_point_list = [area_min_lat, area_max_lat,area_max_lat,area_min_lat]\n",
    "lon_point_list = [area_min_lon, area_min_lon, area_max_lon, area_max_lon]\n",
    "\n",
    "polygon_geom = Polygon(zip(lon_point_list, lat_point_list))"
   ]
  },
  {
   "cell_type": "code",
   "execution_count": 4,
   "metadata": {},
   "outputs": [
    {
     "data": {
      "text/html": [
       "<div>\n",
       "<style scoped>\n",
       "    .dataframe tbody tr th:only-of-type {\n",
       "        vertical-align: middle;\n",
       "    }\n",
       "\n",
       "    .dataframe tbody tr th {\n",
       "        vertical-align: top;\n",
       "    }\n",
       "\n",
       "    .dataframe thead th {\n",
       "        text-align: right;\n",
       "    }\n",
       "</style>\n",
       "<table border=\"1\" class=\"dataframe\">\n",
       "  <thead>\n",
       "    <tr style=\"text-align: right;\">\n",
       "      <th></th>\n",
       "      <th>geometry</th>\n",
       "    </tr>\n",
       "  </thead>\n",
       "  <tbody>\n",
       "    <tr>\n",
       "      <th>0</th>\n",
       "      <td>POLYGON ((106.61960 -6.30980, 106.61960 -6.275...</td>\n",
       "    </tr>\n",
       "  </tbody>\n",
       "</table>\n",
       "</div>"
      ],
      "text/plain": [
       "                                            geometry\n",
       "0  POLYGON ((106.61960 -6.30980, 106.61960 -6.275..."
      ]
     },
     "execution_count": 4,
     "metadata": {},
     "output_type": "execute_result"
    }
   ],
   "source": [
    "boundary = gpd.GeoDataFrame()\n",
    "boundary = boundary.append({'geometry': polygon_geom}, ignore_index=True)\n",
    "boundary"
   ]
  },
  {
   "cell_type": "markdown",
   "metadata": {},
   "source": [
    "Convert both dataframes to Web Mercator projection"
   ]
  },
  {
   "cell_type": "code",
   "execution_count": 5,
   "metadata": {},
   "outputs": [
    {
     "name": "stderr",
     "output_type": "stream",
     "text": [
      "/opt/anaconda3/lib/python3.7/site-packages/pyproj/crs/crs.py:53: FutureWarning: '+init=<authority>:<code>' syntax is deprecated. '<authority>:<code>' is the preferred initialization method. When making the change, be mindful of axis order changes: https://pyproj4.github.io/pyproj/stable/gotchas.html#axis-order-changes-in-proj-6\n",
      "  return _prepare_from_string(\" \".join(pjargs))\n"
     ]
    }
   ],
   "source": [
    "gdf.crs = {'init' :'epsg:3395'}\n",
    "boundary.crs = {'init' :'epsg:3395'}"
   ]
  },
  {
   "cell_type": "markdown",
   "metadata": {},
   "source": [
    "Convert the boundary geometry into a union of the polygon and POI data to NumPy array of coordinates."
   ]
  },
  {
   "cell_type": "code",
   "execution_count": 6,
   "metadata": {},
   "outputs": [],
   "source": [
    "boundary_shape = cascaded_union(boundary.geometry)\n",
    "coords = points_to_coords(gdf.geometry)"
   ]
  },
  {
   "cell_type": "code",
   "execution_count": 7,
   "metadata": {},
   "outputs": [
    {
     "data": {
      "image/svg+xml": [
       "<svg xmlns=\"http://www.w3.org/2000/svg\" xmlns:xlink=\"http://www.w3.org/1999/xlink\" width=\"100.0\" height=\"100.0\" viewBox=\"106.61754892 -6.31184808 0.055433159999992654 0.038188159999999804\" preserveAspectRatio=\"xMinYMin meet\"><g transform=\"matrix(1,0,0,-1,0,-12.585508)\"><path fill-rule=\"evenodd\" fill=\"#66cc99\" stroke=\"#555555\" stroke-width=\"0.001108663199999853\" opacity=\"0.6\" d=\"M 106.619602,-6.309795 L 106.619602,-6.275713 L 106.670929,-6.275713 L 106.670929,-6.309795 L 106.619602,-6.309795 z\" /></g></svg>"
      ],
      "text/plain": [
       "<shapely.geometry.polygon.Polygon at 0x1211bab10>"
      ]
     },
     "execution_count": 7,
     "metadata": {},
     "output_type": "execute_result"
    }
   ],
   "source": [
    "boundary_shape"
   ]
  },
  {
   "cell_type": "markdown",
   "metadata": {},
   "source": [
    "Calculate voronoi regions"
   ]
  },
  {
   "cell_type": "code",
   "execution_count": 8,
   "metadata": {},
   "outputs": [],
   "source": [
    "poly_shapes, pts, poly_to_pt_assignments = voronoi_regions_from_coords(coords, boundary_shape)"
   ]
  },
  {
   "cell_type": "code",
   "execution_count": 9,
   "metadata": {},
   "outputs": [
    {
     "data": {
      "image/png": "[encoded data removed]",
      "text/plain": [
       "<Figure size 432x288 with 1 Axes>"
      ]
     },
     "metadata": {
      "needs_background": "light"
     },
     "output_type": "display_data"
    }
   ],
   "source": [
    "fig, ax = subplot_for_map()\n",
    "plot_voronoi_polys_with_points_in_area(ax, boundary_shape, poly_shapes, pts, poly_to_pt_assignments)\n",
    "ax.set_title('Voronoi regions of Schools in Uppsala')\n",
    "plt.tight_layout()\n",
    "plt.show()"
   ]
  },
  {
   "cell_type": "markdown",
   "metadata": {},
   "source": [
    "Visualize the voronoi diagram using folium"
   ]
  },
  {
   "cell_type": "code",
   "execution_count": 10,
   "metadata": {},
   "outputs": [
    {
     "data": {
      "text/html": [
       "<div style=\"width:100%;\"><div style=\"position:relative;width:100%;height:0;padding-bottom:60%;\"><span style=\"color:#565656\">Make this Notebook Trusted to load map: File -> Trust Notebook</span><iframe src=\"about:blank\" style=\"position:absolute;width:100%;height:100%;left:0;top:0;border:none !important;\" data-html=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 onload=\"this.contentDocument.open();this.contentDocument.write(atob(this.getAttribute('data-html')));this.contentDocument.close();\" allowfullscreen webkitallowfullscreen mozallowfullscreen></iframe></div></div>"
      ],
      "text/plain": [
       "<folium.folium.Map at 0x12c90e350>"
      ]
     },
     "execution_count": 10,
     "metadata": {},
     "output_type": "execute_result"
    }
   ],
   "source": [
    "m = folium.Map([-6.304029, 106.645874], zoom_start=13, tiles='cartodbpositron')\n",
    "#draw the voronoi diagram within coverage area\n",
    "for x in range(len(poly_shapes)):\n",
    "    folium.GeoJson(poly_shapes[x]).add_to(m)\n",
    "    \n",
    "#draw the data points\n",
    "points = np.array([[-6.305286, 106.644085], [-6.301309, 106.653261], [-6.284774, 106.637751], [-6.284598, 106.665062], [-6.283521, 106.627582],[-6.276593, 106.641365], [-6.303643, 106.625972]])\n",
    "locs = points\n",
    "for location in locs:\n",
    "    folium.CircleMarker(location=location, \n",
    "        color = \"#4925a2\",   radius=0.01).add_to(m)\n",
    "\n",
    "m"
   ]
  },
  {
   "cell_type": "code",
   "execution_count": null,
   "metadata": {},
   "outputs": [],
   "source": []
  }
 ],
 "metadata": {
  "kernelspec": {
   "display_name": "Python 3",
   "language": "python",
   "name": "python3"
  },
  "language_info": {
   "codemirror_mode": {
    "name": "ipython",
    "version": 3
   },
   "file_extension": ".py",
   "mimetype": "text/x-python",
   "name": "python",
   "nbconvert_exporter": "python",
   "pygments_lexer": "ipython3",
   "version": "3.7.4"
  }
 },
 "nbformat": 4,
 "nbformat_minor": 2
}
